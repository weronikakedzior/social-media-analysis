{
 "cells": [
  {
   "cell_type": "code",
   "execution_count": 7,
   "metadata": {},
   "outputs": [],
   "source": [
    "#Imports\n",
    "import plotly.graph_objects as go\n",
    "import pandas as pd\n",
    "import json\n",
    "from collections import Counter\n",
    "import plotly\n",
    "import plotly.offline as offline"
   ]
  },
  {
   "cell_type": "code",
   "execution_count": 8,
   "metadata": {},
   "outputs": [],
   "source": [
    "#Preprocessing functions\n",
    "def load_file(name):\n",
    "    with open(name) as f:\n",
    "      file_data = [json.loads(line) for line in f]\n",
    "    return file_data\n",
    "\n",
    "def load_data(file_names):\n",
    "    data = []\n",
    "    for name in file_names:\n",
    "        data = data + load_file('data/'+name)\n",
    "    return data\n",
    "\n",
    "def count_tweets(data, df):\n",
    "    c = Counter(line['location']['country'] for line in data if line['location'] is not None)\n",
    "    for line in range(len(df)):\n",
    "        name = df.at[line,\"COUNTRY\"]\n",
    "        df.at[line,\"COUNT\"] = c[name]\n",
    "        \n",
    "def count_keywords(data, df):    \n",
    "    for line in range(len(df)):\n",
    "        name = df.at[line,\"COUNTRY\"]\n",
    "        c2 =Counter(line['keywords'][0] for line in data if line['location'] is not None and line['location']['country'] == name)\n",
    "        for key in c2:\n",
    "            df.at[line,key] = c2[key]\n"
   ]
  },
  {
   "cell_type": "code",
   "execution_count": 9,
   "metadata": {},
   "outputs": [],
   "source": [
    "#Data load and preprocessing\n",
    "file_names = {'covid1.json', 'covid2.json', 'covid3.json',\n",
    "             'covid4.json', 'covid5.json', 'covid6.json',\n",
    "             'covid7.json','covid8.json'}\n",
    "df = pd.read_csv('data/world.csv',header=0, sep=r'\\s*;\\s*', engine='python')\n",
    "data_tab = []\n",
    "for name in file_names:\n",
    "    data = load_file('data/' + name)\n",
    "    count_tweets(data, df)\n",
    "    count_keywords(data, df)\n",
    "    name = 'out'+ name[5]\n",
    "    df.to_csv(name + '.csv', index=False)\n",
    "    out = pd.read_csv(name +'.csv', sep=r'\\s*,\\s*', engine='python')\n",
    "    data_tab.append(out)\n",
    "data = load_data(file_names)\n",
    "count_tweets(data, df)\n",
    "count_keywords(data, df)\n",
    "df.to_csv('total.csv', index=False)\n",
    "out = pd.read_csv('total.csv', sep=r'\\s*,\\s*', engine='python')\n",
    "data_tab.append(out)"
   ]
  },
  {
   "cell_type": "code",
   "execution_count": 10,
   "metadata": {},
   "outputs": [
    {
     "data": {
      "text/plain": [
       "'html/index2.html'"
      ]
     },
     "execution_count": 10,
     "metadata": {},
     "output_type": "execute_result"
    }
   ],
   "source": [
    "#Plot\n",
    "data_slider = []\n",
    "for out in data_tab:\n",
    "    for col in out.columns:\n",
    "        out[col] = out[col].astype(str)\n",
    "    words = {'coronavirus','sars','wuhan','2019ncov','mers','wuflu','sars2',\n",
    "             'covid19','covid','covid-19','#coronavirus','sarscov19','2019-ncov'}\n",
    "    out['text'] = \"\"\n",
    "    for word in words:\n",
    "        if word in out.columns:\n",
    "            out['text'] +='<br>' + word +': ' + out[word]\n",
    "\n",
    "    data_one_day=dict(\n",
    "        type='choropleth',\n",
    "        locations = out['CODE'],\n",
    "        z = out['COUNT'],\n",
    "        text = out['text'],\n",
    "        colorscale = 'Reds',\n",
    "        autocolorscale=False,\n",
    "        marker_line_color='black',\n",
    "        marker_line_width=0.5,\n",
    "        colorbar_title = 'Number of tweets',\n",
    "    )\n",
    "    data_slider.append(data_one_day)\n",
    "    \n",
    "steps = []\n",
    "\n",
    "for i in range(len(data_slider)-1):\n",
    "    step = dict(method='restyle',\n",
    "                args=['visible', [False] * len(data_slider)],\n",
    "                label='Day {}'.format(i)) \n",
    "    step['args'][1][i] = True\n",
    "    steps.append(step)\n",
    "\n",
    "step = dict(method='restyle',\n",
    "            args=['visible', [False] * len(data_slider)],\n",
    "            label='Total') \n",
    "step['args'][1][len(data_slider)-1] = True\n",
    "steps.append(step)\n",
    "\n",
    "sliders = [dict(active=0, pad={\"t\": 1}, steps=steps)]  \n",
    "layout = dict(\n",
    "    title_text='COVID TWEETS',\n",
    "    sliders=sliders,\n",
    "    geo=dict(\n",
    "        showframe=False,\n",
    "        showcoastlines=True,\n",
    "        projection_type='equirectangular'\n",
    "    ),\n",
    "    annotations = [dict(\n",
    "        x=0.55,\n",
    "        y=0.1,\n",
    "        text='Source: <a href=\"https://zenodo.org/record/4053573#.X33rQmgzbIX\">\\\n",
    "            Zenodo.org</a>',\n",
    "        showarrow = False\n",
    "    )]\n",
    ")\n",
    "fig = dict(data=data_slider, layout=layout) \n",
    "#plotly.offline.iplot(fig)\n",
    "offline.plot(fig, auto_open=True, filename='html/index.html', validate=True)\n",
    "\n"
   ]
  },
  {
   "cell_type": "code",
   "execution_count": null,
   "metadata": {},
   "outputs": [],
   "source": []
  }
 ],
 "metadata": {
  "kernelspec": {
   "display_name": "Python 3 (ipykernel)",
   "language": "python",
   "name": "python3"
  },
  "language_info": {
   "codemirror_mode": {
    "name": "ipython",
    "version": 3
   },
   "file_extension": ".py",
   "mimetype": "text/x-python",
   "name": "python",
   "nbconvert_exporter": "python",
   "pygments_lexer": "ipython3",
   "version": "3.9.7"
  }
 },
 "nbformat": 4,
 "nbformat_minor": 2
}

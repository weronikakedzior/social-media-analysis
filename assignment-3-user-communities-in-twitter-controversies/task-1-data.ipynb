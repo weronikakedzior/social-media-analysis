{
 "cells": [
  {
   "cell_type": "code",
   "execution_count": null,
   "metadata": {},
   "outputs": [],
   "source": [
    "#Imports\n",
    "import twint\n",
    "import datetime\n",
    "import pandas as pd\n",
    "import nest_asyncio\n"
   ]
  },
  {
   "cell_type": "code",
   "execution_count": null,
   "metadata": {},
   "outputs": [],
   "source": [
    "#Get data\n",
    "nest_asyncio.apply()\n",
    "\n",
    "def get_data_for_hashtag(hashtag):\n",
    "    c = twint.Config()\n",
    "    c.Since = '2020-10-24'\n",
    "    c.Profile_full = True\n",
    "    c.Search = hashtag\n",
    "    c.Store_csv = True\n",
    "    c.Output = hashtag + \".csv\"\n",
    "    c.Hashtags = True\n",
    "    twint.run.Search(c)\n",
    "    \n",
    "get_data_for_hashtag(\"#strajkkobiet\")\n"
   ]
  },
  {
   "cell_type": "code",
   "execution_count": null,
   "metadata": {},
   "outputs": [],
   "source": [
    "data = pd.read_csv(\"#strajkkobiet.csv\")\n",
    "count = 0 \n",
    "for user in data['username'].unique():\n",
    "    count += 1\n",
    "    print(user)\n",
    "print(count)"
   ]
  },
  {
   "cell_type": "code",
   "execution_count": null,
   "metadata": {},
   "outputs": [],
   "source": [
    "nest_asyncio.apply()\n",
    "def get_user_profile(username):\n",
    "    c = twint.Config()\n",
    "    c.Username = username\n",
    "    c.Since = '2020-10-15'\n",
    "    c.Reetweets = True\n",
    "    c.Profile_full = True\n",
    "    c.Output = \"users2.csv\"\n",
    "    c.Tabs = True\n",
    "    c.Store_csv = True  \n",
    "    twint.run.Search(c)\n",
    "    \n",
    "data = pd.read_csv(\"users_to_classify.csv\")\n",
    "for user in data['username'].unique():\n",
    "    get_user_profile(user)"
   ]
  },
  {
   "cell_type": "code",
   "execution_count": null,
   "metadata": {},
   "outputs": [],
   "source": []
  }
 ],
 "metadata": {
  "kernelspec": {
   "display_name": "Python 3",
   "language": "python",
   "name": "python3"
  },
  "language_info": {
   "codemirror_mode": {
    "name": "ipython",
    "version": 3
   },
   "file_extension": ".py",
   "mimetype": "text/x-python",
   "name": "python",
   "nbconvert_exporter": "python",
   "pygments_lexer": "ipython3",
   "version": "3.7.4"
  }
 },
 "nbformat": 4,
 "nbformat_minor": 2
}
